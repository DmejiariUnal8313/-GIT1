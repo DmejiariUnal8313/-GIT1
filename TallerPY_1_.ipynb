{
  "nbformat": 4,
  "nbformat_minor": 0,
  "metadata": {
    "colab": {
      "provenance": [],
      "cell_execution_strategy": "setup",
      "authorship_tag": "ABX9TyOEbTevjgcS2tc2yw2MbG0e",
      "include_colab_link": true
    },
    "kernelspec": {
      "name": "python3",
      "display_name": "Python 3"
    },
    "language_info": {
      "name": "python"
    }
  },
  "cells": [
    {
      "cell_type": "markdown",
      "metadata": {
        "id": "view-in-github",
        "colab_type": "text"
      },
      "source": [
        "<a href=\"https://colab.research.google.com/github/DmejiariUnal8313/-GIT1/blob/main/TallerPY_1_.ipynb\" target=\"_parent\"><img src=\"https://colab.research.google.com/assets/colab-badge.svg\" alt=\"Open In Colab\"/></a>"
      ]
    },
    {
      "cell_type": "markdown",
      "source": [
        "Universidad Nacional de Colombia - Sede Manizales\n",
        "\n",
        "Analítica de Datos\n",
        "\n",
        "Nombres: Daniel Felipe Mejía Ríos\n",
        "          Santiago Mazo Orozco\n",
        "\n",
        "Profesor: Diego Fabian Collazos Huertas\n",
        "\n",
        "Admistración de Sistemas Informáticos\n",
        "Departamento de Informática y Computación\n",
        "\n",
        "20 de Marzo de 2024\n",
        "Semestre 2024-I"
      ],
      "metadata": {
        "id": "oTRKDjO4q2ab"
      }
    },
    {
      "cell_type": "code",
      "source": [],
      "metadata": {
        "id": "O-JNMXK0tEN4"
      },
      "execution_count": null,
      "outputs": []
    }
  ]
}